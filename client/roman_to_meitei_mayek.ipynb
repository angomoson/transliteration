{
 "cells": [
  {
   "cell_type": "code",
   "execution_count": 1,
   "id": "f2af7c98",
   "metadata": {},
   "outputs": [],
   "source": [
    "import pandas as pd\n",
    "import requests"
   ]
  },
  {
   "cell_type": "code",
   "execution_count": 2,
   "id": "14825e3c",
   "metadata": {},
   "outputs": [],
   "source": [
    "url = 'http://localhost:3000/users'\n",
    "headers = {'Content-Type': 'application/json'}"
   ]
  },
  {
   "cell_type": "code",
   "execution_count": 3,
   "id": "6cfc3887",
   "metadata": {},
   "outputs": [],
   "source": [
    "path_to_csv = \"/Users/oson/Desktop/text-summarization/transliteration/client/reviews.csv\""
   ]
  },
  {
   "cell_type": "code",
   "execution_count": 4,
   "id": "5f199155",
   "metadata": {},
   "outputs": [
    {
     "data": {
      "text/html": [
       "<div>\n",
       "<style scoped>\n",
       "    .dataframe tbody tr th:only-of-type {\n",
       "        vertical-align: middle;\n",
       "    }\n",
       "\n",
       "    .dataframe tbody tr th {\n",
       "        vertical-align: top;\n",
       "    }\n",
       "\n",
       "    .dataframe thead th {\n",
       "        text-align: right;\n",
       "    }\n",
       "</style>\n",
       "<table border=\"1\" class=\"dataframe\">\n",
       "  <thead>\n",
       "    <tr style=\"text-align: right;\">\n",
       "      <th></th>\n",
       "      <th>review</th>\n",
       "      <th>sentiment</th>\n",
       "    </tr>\n",
       "  </thead>\n",
       "  <tbody>\n",
       "    <tr>\n",
       "      <th>0</th>\n",
       "      <td>The product quality is excellent!</td>\n",
       "      <td>positive</td>\n",
       "    </tr>\n",
       "    <tr>\n",
       "      <th>1</th>\n",
       "      <td>I am not satisfied with the service.</td>\n",
       "      <td>negative</td>\n",
       "    </tr>\n",
       "    <tr>\n",
       "      <th>2</th>\n",
       "      <td>The delivery was fast and the package was intact.</td>\n",
       "      <td>positive</td>\n",
       "    </tr>\n",
       "  </tbody>\n",
       "</table>\n",
       "</div>"
      ],
      "text/plain": [
       "                                              review sentiment\n",
       "0                  The product quality is excellent!  positive\n",
       "1               I am not satisfied with the service.  negative\n",
       "2  The delivery was fast and the package was intact.  positive"
      ]
     },
     "execution_count": 4,
     "metadata": {},
     "output_type": "execute_result"
    }
   ],
   "source": [
    "df = pd.read_csv(path_to_csv)\n",
    "df.head()"
   ]
  },
  {
   "cell_type": "code",
   "execution_count": 5,
   "id": "157617da",
   "metadata": {},
   "outputs": [],
   "source": [
    "out = []"
   ]
  },
  {
   "cell_type": "code",
   "execution_count": 6,
   "id": "45799521",
   "metadata": {},
   "outputs": [],
   "source": [
    "for inp_text in df['review']:\n",
    "    data = {'data': inp_text}\n",
    "    response = requests.post(url, json=data, headers=headers)\n",
    "    out.append(response.text)\n"
   ]
  },
  {
   "cell_type": "code",
   "execution_count": 8,
   "id": "eda8bab9",
   "metadata": {},
   "outputs": [
    {
     "data": {
      "text/html": [
       "<div>\n",
       "<style scoped>\n",
       "    .dataframe tbody tr th:only-of-type {\n",
       "        vertical-align: middle;\n",
       "    }\n",
       "\n",
       "    .dataframe tbody tr th {\n",
       "        vertical-align: top;\n",
       "    }\n",
       "\n",
       "    .dataframe thead th {\n",
       "        text-align: right;\n",
       "    }\n",
       "</style>\n",
       "<table border=\"1\" class=\"dataframe\">\n",
       "  <thead>\n",
       "    <tr style=\"text-align: right;\">\n",
       "      <th></th>\n",
       "      <th>review</th>\n",
       "      <th>sentiment</th>\n",
       "      <th>manipuri</th>\n",
       "    </tr>\n",
       "  </thead>\n",
       "  <tbody>\n",
       "    <tr>\n",
       "      <th>0</th>\n",
       "      <td>The product quality is excellent!</td>\n",
       "      <td>positive</td>\n",
       "      <td>ꯊꯦ ꯄ꯭ꯔꯣꯗꯨꯆꯠ ꯀ꯭ꯋꯨꯑꯂꯤꯠꯌ ꯏꯁ ꯑꯦꯀ꯭ꯁꯆꯦꯜꯂꯦꯟꯇ!</td>\n",
       "    </tr>\n",
       "    <tr>\n",
       "      <th>1</th>\n",
       "      <td>I am not satisfied with the service.</td>\n",
       "      <td>negative</td>\n",
       "      <td>ꯏ ꯑꯝ ꯅꯣꯠ ꯁꯥꯇꯤꯁꯐꯤꯑꯦꯗ ꯋꯤꯊ ꯊꯦ ꯁꯦꯔꯚꯤꯆꯦ꯫</td>\n",
       "    </tr>\n",
       "    <tr>\n",
       "      <th>2</th>\n",
       "      <td>The delivery was fast and the package was intact.</td>\n",
       "      <td>positive</td>\n",
       "      <td>ꯊꯦ ꯗꯦꯂꯤꯚꯦꯔꯌ ꯋꯥꯁ ꯐꯥꯁꯠ ꯑꯟꯗ ꯊꯦ ꯄꯥꯆꯀꯥꯒꯦ ꯋꯥꯁ ꯏꯟꯇꯥꯆꯠ꯫</td>\n",
       "    </tr>\n",
       "  </tbody>\n",
       "</table>\n",
       "</div>"
      ],
      "text/plain": [
       "                                              review sentiment  \\\n",
       "0                  The product quality is excellent!  positive   \n",
       "1               I am not satisfied with the service.  negative   \n",
       "2  The delivery was fast and the package was intact.  positive   \n",
       "\n",
       "                                          manipuri  \n",
       "0           ꯊꯦ ꯄ꯭ꯔꯣꯗꯨꯆꯠ ꯀ꯭ꯋꯨꯑꯂꯤꯠꯌ ꯏꯁ ꯑꯦꯀ꯭ꯁꯆꯦꯜꯂꯦꯟꯇ!  \n",
       "1              ꯏ ꯑꯝ ꯅꯣꯠ ꯁꯥꯇꯤꯁꯐꯤꯑꯦꯗ ꯋꯤꯊ ꯊꯦ ꯁꯦꯔꯚꯤꯆꯦ꯫  \n",
       "2  ꯊꯦ ꯗꯦꯂꯤꯚꯦꯔꯌ ꯋꯥꯁ ꯐꯥꯁꯠ ꯑꯟꯗ ꯊꯦ ꯄꯥꯆꯀꯥꯒꯦ ꯋꯥꯁ ꯏꯟꯇꯥꯆꯠ꯫  "
      ]
     },
     "execution_count": 8,
     "metadata": {},
     "output_type": "execute_result"
    }
   ],
   "source": [
    "df['manipuri'] = out\n",
    "df.head()"
   ]
  },
  {
   "cell_type": "code",
   "execution_count": 9,
   "id": "2efdf68a",
   "metadata": {},
   "outputs": [],
   "source": [
    "df.to_csv('output.csv', index=False)"
   ]
  },
  {
   "cell_type": "code",
   "execution_count": null,
   "id": "4d53a001",
   "metadata": {},
   "outputs": [],
   "source": []
  }
 ],
 "metadata": {
  "kernelspec": {
   "display_name": "Python 3 (ipykernel)",
   "language": "python",
   "name": "python3"
  },
  "language_info": {
   "codemirror_mode": {
    "name": "ipython",
    "version": 3
   },
   "file_extension": ".py",
   "mimetype": "text/x-python",
   "name": "python",
   "nbconvert_exporter": "python",
   "pygments_lexer": "ipython3",
   "version": "3.11.4"
  }
 },
 "nbformat": 4,
 "nbformat_minor": 5
}
